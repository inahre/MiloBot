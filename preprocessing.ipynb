{
 "cells": [
  {
   "cell_type": "code",
   "execution_count": null,
   "metadata": {},
   "outputs": [],
   "source": [
    "import os\n",
    "import re\n",
    "import numpy as np\n",
    "import pandas as pd\n",
    "from sklearn.feature_extraction.text import CountVectorizer\n",
    "import csv"
   ]
  },
  {
   "cell_type": "code",
   "execution_count": null,
   "metadata": {},
   "outputs": [],
   "source": [
    "file = open('path/to/your/chat/data.csv', encoding='utf-8')\n",
    "\n",
    "chat = np.loadtxt(file, delimiter = \"\\t\",  dtype = 'O')\n",
    "\n",
    "print(chat)"
   ]
  },
  {
   "cell_type": "code",
   "execution_count": null,
   "metadata": {},
   "outputs": [],
   "source": [
    "print(len(chat))"
   ]
  },
  {
   "cell_type": "code",
   "execution_count": null,
   "metadata": {},
   "outputs": [],
   "source": [
    "#define function for cleaning rules for our dataset\n",
    "\n",
    "def cleaner(message):\n",
    "    cleaning_rules = [(r'\\[\\d+/\\d+/\\d+, \\d+:\\d+:\\d+]\\D+:', ''), (r'‎', ''),\n",
    "                      (r' Messages and calls are end-to-end encrypted. No one outside of this chat, not even WhatsApp, can read or listen to them.', ''),\n",
    "                      (r'image omitted', ''), (r'This message was deleted.', ''),\n",
    "                      (r'Missed voice call', ''), (r'<This message was edited>', ''),\n",
    "                      (r'video omitted', ''), (r'GIF omitted', ''),\n",
    "                      (r'sticker omitted', ''), (r'\\D+\\d+.\\d+,-\\d+.\\d+', ''),] \n",
    "\n",
    "    for pattern, replacement in cleaning_rules:\n",
    "        message = re.sub(pattern, replacement, message)\n",
    "    \n",
    "    return message\n",
    "\n",
    "#this code removes all patterns and strings with empty strings by use of RegEx"
   ]
  },
  {
   "cell_type": "code",
   "execution_count": null,
   "metadata": {},
   "outputs": [],
   "source": [
    "#apply the cleaning rules to each message\n",
    "\n",
    "cleaned_chat = [(cleaner(messages)) for messages in chat]\n",
    "\n",
    "print(cleaned_chat)"
   ]
  },
  {
   "cell_type": "markdown",
   "metadata": {},
   "source": [
    "The above got rid of unnecessary metadata and irrelevant chat parts. If more irrelevant components are found, go back and adjust the list of regex."
   ]
  },
  {
   "cell_type": "code",
   "execution_count": null,
   "metadata": {},
   "outputs": [],
   "source": [
    "#replace empty string with None\n",
    "\n",
    "for val in range(len(cleaned_chat)):\n",
    "    if cleaned_chat[val] == '' or cleaned_chat[val] == ' ':\n",
    "        cleaned_chat[val] = None \n",
    "\n",
    "print(cleaned_chat)"
   ]
  },
  {
   "cell_type": "code",
   "execution_count": null,
   "metadata": {},
   "outputs": [],
   "source": [
    "#now remove None values\n",
    "\n",
    "clean_chat =[]\n",
    "for x in cleaned_chat:\n",
    "    if (x != None):\n",
    "        clean_chat.append(x)\n",
    "\n",
    "print(clean_chat)"
   ]
  },
  {
   "cell_type": "code",
   "execution_count": null,
   "metadata": {},
   "outputs": [],
   "source": [
    "len(clean_chat)"
   ]
  },
  {
   "cell_type": "code",
   "execution_count": null,
   "metadata": {},
   "outputs": [],
   "source": [
    "#basic stats to help tune model parameters\n",
    "\n",
    "word_count = [len(line.split()) for line in clean_chat]\n",
    "\n",
    "average_words = sum(word_count) / len(clean_chat)\n",
    "\n",
    "print(average_words)\n",
    "\n",
    "print(word_count)\n",
    "\n",
    "max(word_count)"
   ]
  },
  {
   "cell_type": "code",
   "execution_count": null,
   "metadata": {},
   "outputs": [],
   "source": [
    "#create a file path for message pairs\n",
    "\n",
    "data_path = \"/replace/with/your/file/path\"\n"
   ]
  },
  {
   "cell_type": "code",
   "execution_count": null,
   "metadata": {},
   "outputs": [],
   "source": [
    "#pair the messages into input / response format\n",
    "\n",
    "message_pairs = []\n",
    "\n",
    "for i in range(len(clean_chat) - 1):\n",
    "    previous_message = clean_chat[i].strip()\n",
    "    current_message = clean_chat[i+1].strip()\n",
    "\n",
    "    if previous_message and current_message:\n",
    "        message_pairs.append([previous_message, current_message]) #make sure each message is part of a pair\n",
    "    \n",
    "for pair in message_pairs[:10]:\n",
    "    print(pair)"
   ]
  },
  {
   "cell_type": "code",
   "execution_count": null,
   "metadata": {},
   "outputs": [],
   "source": [
    "datafile = os.path.join(data_path, \"organised_chat.tsv\")\n",
    "\n",
    "delimiter = '\\t'\n",
    "\n",
    "with open(datafile, 'w', encoding ='utf-8') as outputfile:\n",
    "    writer = csv.writer(outputfile, delimiter=delimiter, lineterminator='\\n')\n",
    "    for pair in message_pairs:\n",
    "        writer.writerow(pair)\n",
    "\n",
    "print(datafile)"
   ]
  },
  {
   "cell_type": "code",
   "execution_count": null,
   "metadata": {},
   "outputs": [],
   "source": [
    "data_file = '/path/to/your/organised_chat.tsv'"
   ]
  }
 ],
 "metadata": {
  "kernelspec": {
   "display_name": "nlp",
   "language": "python",
   "name": "python3"
  },
  "language_info": {
   "codemirror_mode": {
    "name": "ipython",
    "version": 3
   },
   "file_extension": ".py",
   "mimetype": "text/x-python",
   "name": "python",
   "nbconvert_exporter": "python",
   "pygments_lexer": "ipython3",
   "version": "3.9.18"
  }
 },
 "nbformat": 4,
 "nbformat_minor": 2
}
